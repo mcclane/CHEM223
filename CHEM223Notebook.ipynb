{
 "cells": [
  {
   "cell_type": "markdown",
   "metadata": {},
   "source": [
    "# CHEM 223 - Organic Chemistry 3 Lab\n",
    "\n",
    "\n",
    "## Foreword\n",
    "\n",
    "This notebook contains calculations for my third and final quarter of organic chemistry lab. At the time of writing, it's April 2020 and deep in quarantine, so this lab is online. I know what you're thinking, an online ochem lab? My days of broken glassware, fudged data, and poorly taken IR and proton NMR spectra are over. For the past two quarters, organic chemistry labs have been a welcome relief from the rest of my reading-on-a-computer typing-on-a-computer staring-at-a-computer coursework. This was where the mild pain of organic chemistry was supposed to come together in a tangible and rewarding way. Guess not. I won't miss stressing about finishing reactions and cleaning up under time pressure, though."
   ]
  },
  {
   "cell_type": "code",
   "execution_count": 19,
   "metadata": {},
   "outputs": [],
   "source": [
    "class Reagent:\n",
    "    def __init__(self, name, grams=None, moles=None, mmoles=None, mL=None, mw=None, density=None, M=None, pKa=None): # g/mL\n",
    "        self.name = name\n",
    "        self.grams = grams\n",
    "        self.moles = moles\n",
    "        self.mmoles = mmoles\n",
    "        self.mL = mL\n",
    "        self.mw = mw\n",
    "        self.density = density\n",
    "        self.M = M\n",
    "        self.pKa = pKa\n",
    "        \n",
    "        for i in range(20): # for dependent measurements\n",
    "            self.grams = self._calc_grams()\n",
    "            self.moles = self._calc_moles()\n",
    "            self.mmoles = self._calc_mmoles()\n",
    "            self.mL = self._calc_mL()\n",
    "            \n",
    "    \n",
    "    def _calc_grams(self):\n",
    "        if self.grams:\n",
    "            return float(self.grams)\n",
    "        elif self.moles and self.mw:\n",
    "            return float(self.moles) * float(self.mw)\n",
    "        elif self.mmoles and self.mw:\n",
    "            return (float(self.mmoles) / 1000.0) * float(self.mw)\n",
    "        elif self.mL and self.density:\n",
    "            return float(self.mL) * float(self.density)\n",
    "        return None\n",
    "    \n",
    "    def _calc_moles(self):\n",
    "        if self.moles:\n",
    "            return float(self.moles)\n",
    "        elif self.mmoles:\n",
    "            return float(self.mmoles) / 1000.0\n",
    "        elif self.grams and self.mw:\n",
    "            return float(self.grams) / float(self.mw)\n",
    "        elif self.mL and self.M:\n",
    "            return float(self.mL) / 1000.0 * self.M\n",
    "        return None\n",
    "    \n",
    "    def _calc_mmoles(self):\n",
    "        if self.mmoles:\n",
    "            return float(self.mmoles)\n",
    "        elif self._calc_moles():\n",
    "            return self._calc_moles() * 1000.0\n",
    "        return None\n",
    "    \n",
    "    def _calc_mL(self):\n",
    "        if self.mL:\n",
    "            return self.mL\n",
    "        elif self.grams and self.density:\n",
    "            return float(self.grams) / float(self.density)\n",
    "        elif self.moles and self.mw and self.density:\n",
    "            return float(self.moles) * float(self.mw) / float(self.d)\n",
    "        elif self.mmoles and self.mw and self.density:\n",
    "            return float(self.mmoles) * float(self.mw) / float(self.d) / 1000.0\n",
    "        return None\n",
    "    \n",
    "    def __str__(self):\n",
    "        s = self.name\n",
    "        if self.grams:\n",
    "            s += f\" {self.grams} g\"\n",
    "        if self.moles:\n",
    "            s += f\" {self.moles} mol\"\n",
    "        if self.mmoles:\n",
    "            s += f\" {self.mmoles} mmol\"\n",
    "        return s\n",
    "    \n",
    "#     def percent_yield()"
   ]
  },
  {
   "cell_type": "markdown",
   "metadata": {},
   "source": [
    "## EXPERIMENT 1: SYNTHESIS OF METHYL SALICYLATE: A FISCHER ESTERIFICATION"
   ]
  },
  {
   "cell_type": "markdown",
   "metadata": {},
   "source": [
    "### Reagents"
   ]
  },
  {
   "cell_type": "code",
   "execution_count": 116,
   "metadata": {},
   "outputs": [],
   "source": [
    "sa = Reagent(\"salicylic acid\", grams=9.7, mw=138.121)\n",
    "meoh = Reagent(\"MeOH\", mL=25.0, mw=32.04, density=0.792, pKa=15.54)\n",
    "h2so4 = Reagent(\"Conc. H2SO4\", mL=4.0, M=18.0, pKa=-2.8)\n",
    "quiz_incorrect_h2so4 = Reagent(\"Incorrect amount pure H2SO4\", mL=1.0, density=1.83, mw=98.07, pKa=-2.8)"
   ]
  },
  {
   "cell_type": "markdown",
   "metadata": {},
   "source": [
    "### Equivalents"
   ]
  },
  {
   "cell_type": "code",
   "execution_count": 117,
   "metadata": {},
   "outputs": [
    {
     "data": {
      "text/html": [
       "<div>\n",
       "<style scoped>\n",
       "    .dataframe tbody tr th:only-of-type {\n",
       "        vertical-align: middle;\n",
       "    }\n",
       "\n",
       "    .dataframe tbody tr th {\n",
       "        vertical-align: top;\n",
       "    }\n",
       "\n",
       "    .dataframe thead th {\n",
       "        text-align: right;\n",
       "    }\n",
       "</style>\n",
       "<table border=\"1\" class=\"dataframe\">\n",
       "  <thead>\n",
       "    <tr style=\"text-align: right;\">\n",
       "      <th></th>\n",
       "      <th>name</th>\n",
       "      <th>equivalents</th>\n",
       "    </tr>\n",
       "  </thead>\n",
       "  <tbody>\n",
       "    <tr>\n",
       "      <th>0</th>\n",
       "      <td>salicylic acid</td>\n",
       "      <td>1.000000</td>\n",
       "    </tr>\n",
       "    <tr>\n",
       "      <th>1</th>\n",
       "      <td>MeOH</td>\n",
       "      <td>8.799554</td>\n",
       "    </tr>\n",
       "    <tr>\n",
       "      <th>2</th>\n",
       "      <td>Conc. H2SO4</td>\n",
       "      <td>1.025228</td>\n",
       "    </tr>\n",
       "    <tr>\n",
       "      <th>3</th>\n",
       "      <td>Incorrect amount pure H2SO4</td>\n",
       "      <td>0.265707</td>\n",
       "    </tr>\n",
       "  </tbody>\n",
       "</table>\n",
       "</div>"
      ],
      "text/plain": [
       "                          name  equivalents\n",
       "0               salicylic acid     1.000000\n",
       "1                         MeOH     8.799554\n",
       "2                  Conc. H2SO4     1.025228\n",
       "3  Incorrect amount pure H2SO4     0.265707"
      ]
     },
     "execution_count": 117,
     "metadata": {},
     "output_type": "execute_result"
    }
   ],
   "source": [
    "import pandas as pd\n",
    "\n",
    "reagents = [sa, meoh, h2so4, quiz_incorrect_h2so4]\n",
    "mmoles = [[r.name, r.mmoles] for r in reagents]\n",
    "df = pd.DataFrame(mmoles, columns=[\"name\", \"equivalents\"])\n",
    "df['equivalents'] = df['equivalents'] / sa.mmoles\n",
    "df"
   ]
  },
  {
   "cell_type": "markdown",
   "metadata": {},
   "source": [
    "### Theoretical Yield\n",
    "\n",
    "1:1 molar ratio between salicylic acid reagent and methyl salicate product"
   ]
  },
  {
   "cell_type": "code",
   "execution_count": 109,
   "metadata": {},
   "outputs": [
    {
     "name": "stdout",
     "output_type": "stream",
     "text": [
      "10.69 g methyl salicylate\n"
     ]
    }
   ],
   "source": [
    "ms = Reagent(\"methyl salicylate\", moles=sa.moles, mw=152.1494)\n",
    "print(f\"{ms.grams:.2f} g methyl salicylate\")"
   ]
  },
  {
   "cell_type": "markdown",
   "metadata": {},
   "source": [
    "### Percent yield"
   ]
  },
  {
   "cell_type": "code",
   "execution_count": 119,
   "metadata": {},
   "outputs": [
    {
     "name": "stdout",
     "output_type": "stream",
     "text": [
      "percent yield: 69.25. Nice.\n"
     ]
    }
   ],
   "source": [
    "py = 7.4 / ms.grams * 100\n",
    "print(f\"percent yield: {py:.2f}. Nice.\")"
   ]
  },
  {
   "cell_type": "markdown",
   "metadata": {},
   "source": [
    "### Properties and uses of salicylic acid and methyl salicylate\n",
    "\n",
    "Salicylic acid is a whitish-tan solid at room temperature. It can be used to remove the outer layer skin and is often found in skincare and acne products. Salicylic acid is also an active metabolite of the drug aspirin and is responsible for the anti inflammatory properties of aspirin.\n",
    "\n",
    "Methyl salicylate, aka wintergreen oil, is a colorless liquid at room temperature with a minty or fruity odor. It is commonly used in fragrances, foods, and beverages. It is also used in traditional medicine.\n",
    "\n",
    "\n",
    "### Procedure in lab manual vs youtube video\n",
    "\n",
    "[youtube video](https://www.youtube.com/watch?v=lJLP2bcXDqY)\n",
    "\n",
    "The lab manual procedure used different and smaller quantities of reagents. No boiling stones in the video. Reaction mixture in the video was refluxed for twice as long. The video used a rotovap immediately after refluxing to remove some of the excess methanol. In the video, only cold water was added to the sep funnel. The lab manual calls for cold water, EtOAc, and brine to be added to the sep funnel. The video showed an extra final wash step. When the rest of the extraction was completed, the lab manual procedure called for rotovapping off the EtOAc. The video mentioned but did not show the use of MgSO4 to remove excess water from the product.\n",
    "\n",
    "\n",
    "### Percent yield\n",
    "\n",
    "69.25%\n",
    "\n",
    "\n",
    "### Rf/Polarity of methyl salicylate vs salicylic acid\n",
    "\n",
    "Salicylic acid would have a lower Rf value because the carboxylic acid group in salicylic acid is more polar than the ester group in methyl salicylate.\n",
    "\n",
    "\n",
    "### IR Spectrum of methyl salicylate vs \n",
    "\n",
    "Methyl salicylate IR spectrum has a peak at 1650 cm-1 from ester C=O stretch. There are also C-O stretches in the fingerprint region from 1000 - 1300 cm-1 characteristic of an ester, which are absent in the IR spectra of salicylic acid. The IR spectra of both methyl salicylate and salicylic have O-H stretches around 3000 to 3500 cm-1.\n",
    "\n",
    "\n",
    "### HNMR of methyl salicylate\n",
    "\n",
    "The signal at 10.5 is from the phenol H. This is not a good signal to base the integrations off because it is broad and difficult to integrate accurately. This means the other integrations are not directly indicitave of the number of protons causing the signals. The 4 aromatic protons cause the peaks between 6.7 and 7.9, but overlap and are difficult to distinguish from each other. The singlet at 3.9 is caused by the 3 protons in the methyl group on the end of the ester. It would be better to integrate the signals based off of this signal, using a value of 3, because it is strong and distinct.\n",
    "\n",
    "\n",
    "### 13C NMR of methyl salicylate\n",
    "\n",
    "The C in the ester is the furthest signal downfield. The second furthest downfield signal is likely the C attached to the OH.\n",
    "\n",
    "\n",
    "### Most interesting thing I learned\n",
    "\n",
    "Since salicylic acid is the principle metabolite of aspirin, I enjoyed reading about how aspirin is absorbed by the body and metabolized into salicylic acid."
   ]
  },
  {
   "cell_type": "markdown",
   "metadata": {},
   "source": [
    "## EXPERIMENT 2: OXIDATION OF BORNEOL WITH NaOCl"
   ]
  },
  {
   "cell_type": "code",
   "execution_count": 5,
   "metadata": {},
   "outputs": [
    {
     "data": {
      "text/plain": [
       "12.965964343598054"
      ]
     },
     "execution_count": 5,
     "metadata": {},
     "output_type": "execute_result"
    }
   ],
   "source": [
    "borneol = Reagent(\"borneol\", grams=2.0, mw=154.25)\n",
    "borneol.mmoles"
   ]
  },
  {
   "cell_type": "code",
   "execution_count": 14,
   "metadata": {},
   "outputs": [
    {
     "name": "stdout",
     "output_type": "stream",
     "text": [
      "Percent yield: 76.9%\n"
     ]
    }
   ],
   "source": [
    "actual_borneol = Reagent(\"borneol\", grams=2.03, mw=154.25)\n",
    "camphor = Reagent(\"camphor\", moles=actual_borneol.moles, mw=152.23)\n",
    "pyield = 1.54 / camphor.grams * 100\n",
    "print(f\"Percent yield: {pyield:.1f}%\")"
   ]
  },
  {
   "cell_type": "markdown",
   "metadata": {},
   "source": [
    "### Report Questions\n",
    "\n",
    "\n",
    "### 4. What would the key differences be between the IR of starting material and the product?\n",
    "\n",
    "Starting material would have an alcohol O-H stretch around 3000-3500 from the alcohol, C-O stretches in the fingerprint region. Product would have a ketone C=O stretch around 1700.\n",
    "\n",
    "\n",
    "### 5. List three pertinent principles of green chemistry that were followed in the procedure, briefly describe how they were applied to our experiment. You can answer this in comparison to using  Jones reagent for oxidizing an alcohol to a ketone\n",
    "\n",
    "3: Design less hazardous chemical syntheses. Less toxic household bleach was used to oxidize an alcohol instead of toxic chromium reagents.\n",
    "\n",
    "8: Avoid chemical derivatives (and protecting or blocking groups). The synthesis did not involve any protecting groups and the alcohol in borneol was oxidized directly to a ketone.\n",
    "\n",
    "11: Analyze in real time. The temperature of the reaction was monitored to determine the progress. The reaction mixture was tested with a starch iodine test strip to verify that enought oxidizing agent was present to oxidize all of the reagents. This helped confirm that reagents were not left unreacted and wasted.\n",
    "\n",
    "\n",
    "### 6. The proton NMR of camphor can be found on the home page. Proton C has been labeled. Why is the proton NMR so complicated? Why is the N+1 rule for multiplicity not followed?\n",
    "\n",
    "Protons C and D are not equivalent. Proton C is split by both protons E and D. The doublet of triplets results when each peak of the doublet from splitting by proton E is split into a triplet by proton D."
   ]
  },
  {
   "cell_type": "markdown",
   "metadata": {},
   "source": [
    "# EXPERIMENT 3: PREPARATION OF DIBENZALACETONE"
   ]
  },
  {
   "cell_type": "code",
   "execution_count": 14,
   "metadata": {},
   "outputs": [
    {
     "name": "stdout",
     "output_type": "stream",
     "text": [
      "Benzaldehyde\n",
      "3.1837199999999997 g\n",
      "3.06126923076923 mL\n",
      "Acetone\n",
      "0.8712 g\n",
      "1.1112244897959183 mL\n"
     ]
    }
   ],
   "source": [
    "benzaldehyde = Reagent(\"Benzaldehyde\", mw=106.124, density=1.04, mmoles=30.0)\n",
    "print(\"Benzaldehyde\")\n",
    "print(benzaldehyde.grams, \"g\")\n",
    "print(benzaldehyde.mL, \"mL\")\n",
    "\n",
    "acetone = Reagent(\"Acetone\", mw=58.08, density=0.784, mmoles=15.0)\n",
    "print(\"Acetone\")\n",
    "print(acetone.grams, \"g\")\n",
    "print(acetone.mL, \"mL\")"
   ]
  },
  {
   "cell_type": "markdown",
   "metadata": {},
   "source": [
    "Why does the carbon of the enolate anion attack the carbonyl of the benzaldehyde? What doesn't  the oxygen on the enolate attack?  Below are two computer calculations of the a) the electrostatic map of the enolate anion of acetone  b) the calculated HOMO of the enolate ion of acetone. What do these pictures tell you about the reactivity of enolate? \n",
    "\n",
    "Oxygen attracts the electrons more strongly and is less willing to share them. The HOMO of the enolate ion shows that the electrons spend more time around the carbon, not the oxygen, which makes it more likely that the electrons would attack when they are near the carbon.\n",
    "\n",
    "Why does the enolate ion of acetone attack the electrophilic carbonyl of the aldehdye and not another acetone molecule?\n",
    "\n",
    "The carbon of the the aldehyde is more electrophilic because it is next to a benzene ring."
   ]
  },
  {
   "cell_type": "code",
   "execution_count": 3,
   "metadata": {},
   "outputs": [
    {
     "name": "stdout",
     "output_type": "stream",
     "text": [
      "Percent yield: 93.64%\n"
     ]
    }
   ],
   "source": [
    "# percent yield\n",
    "benzaldehyde = Reagent(\"Benzaldehyde\", mw=106.124, density=1.04, mL=2.0)\n",
    "dibenzylacetone = Reagent(\"dibenzylacetone\", moles=benzaldehyde.moles / 2.0, mw=234.29)\n",
    "print(f\"Percent yield: {(2.15 / dibenzylacetone.grams) * 100:.2f}%\")"
   ]
  },
  {
   "cell_type": "code",
   "execution_count": 7,
   "metadata": {},
   "outputs": [
    {
     "name": "stdout",
     "output_type": "stream",
     "text": [
      "11.94\n"
     ]
    }
   ],
   "source": [
    "# coupling constants\n",
    "print(f\"{(7.1360 - 7.0962) * 300 :.2f}\")"
   ]
  },
  {
   "cell_type": "markdown",
   "metadata": {},
   "source": [
    "4. Describe key differences in the IR of the starting materials and the product that would confirm your reaction was successful \n",
    "\n",
    "The conjugated aldehyde in the starting material appears at a higher frequency than the conjugated ketone C=O stretch in the product. The aldehyde C-H stretch around 2700 cm-1 is also not present in the dibenzylacetone product.\n",
    "\n",
    "\n",
    "5. Dibenzylacetone is an active ingredient in sunscreen. How does it protect your skin from the sun, structurally what is responsible  this property?\n",
    "\n",
    "Dibenzylacetone absorbs light in the IR spectrum. This is because it is a highly conjugated system.\n",
    "\n",
    "6. Watch this  video on Flow chemistry https://www.youtube.com/watch?v=bPmOsSswppI\n",
    "\n",
    "This cute video outlines some of  the advantages of flow chemistry. Do your own internet research:\n",
    "\n",
    " \n",
    "\n",
    "a)What are some of the challenges/disadvantages of flow chemistry?\n",
    "\n",
    " \n",
    "\n",
    "b) Search and find 1 compound that has been synthesized using flow chemistry either in academia or in industry. Find the original journal article, provide the names of the compound, the title of the paper and cite the article.  Be sure to read the document under experiment 3 that tells you how to access articles remotely and  the format they should be cited in.  \n",
    "\n",
    "c) Explain why the researchers chose to use flow chemistry for that compound. \n",
    "\n",
    "\n",
    "Advantages: high temperature, increased safety, fast mixing of compounds, easier to automate, coupling purification with the reaction, easier to scale up\n",
    "\n",
    "Disadvantages: Specialized equipment is required, on a small scale the surface to volume ratios are good but this does not always apply to scaling up.\n",
    "\n",
    "Baxendale, Ian R.; Jon Deeley; Charlotte M. Griffiths-Jones; Steven V. Ley; Steen Saaby; Geoffrey K. Tranmer. Chemical Communications 2006. 0 (24): 2566–2568.\n",
    "\n",
    "In the paper \"A flow process for the multi-step synthesis of the alkaloid natural product oxomaritidine: a new paradigm for molecular assembly\", the authors synthesized oxomaritidine using flow chemistry. They chose flow chemistry because \"no isolation at intermediate stages was necessary, no use was made of labour intensive techniques such as product distillation or crystallisation, nor was column chromatography required to furnish materials of appropriate quality in order to progress to the next step in the synthesis.\" The result was lots of saved time and labor."
   ]
  },
  {
   "cell_type": "markdown",
   "metadata": {},
   "source": [
    "# EXPERIMENT 4: MULTI-STEP AROMATIC SYNTHESIS"
   ]
  },
  {
   "cell_type": "code",
   "execution_count": 17,
   "metadata": {},
   "outputs": [
    {
     "name": "stdout",
     "output_type": "stream",
     "text": [
      "4-methoxyacetophenone 5.0 g 0.03329559832190185 mol 33.29559832190185 mmol\n",
      "conc. H2SO4 0.36 mol 360.0 mmol\n",
      "conc. HNO3 0.04 mol 40.0 mmol\n"
     ]
    }
   ],
   "source": [
    "fmap = Reagent(\"4-methoxyacetophenone\", mw=150.17, grams=5.0)\n",
    "conc_h2so4 = Reagent(\"conc. H2SO4\", M=18.0, mL=20.0)\n",
    "conc_hno3 = Reagent(\"conc. HNO3\", M=16.0, mL=2.5)\n",
    "\n",
    "print(fmap)\n",
    "print(conc_h2so4)\n",
    "print(conc_hno3)"
   ]
  },
  {
   "cell_type": "code",
   "execution_count": 21,
   "metadata": {},
   "outputs": [
    {
     "name": "stdout",
     "output_type": "stream",
     "text": [
      "3-nitro-4-methoxyacetophenone 6.498301924485583 g 0.03329559832190185 mol 33.29559832190185 mmol\n"
     ]
    }
   ],
   "source": [
    "# theoretical yield of 3-Nitro-4-methoxyacetophenone\n",
    "tnfmap = Reagent(\"3-nitro-4-methoxyacetophenone\", mw=195.17, moles=fmap.moles)\n",
    "print(tnfmap)"
   ]
  },
  {
   "cell_type": "code",
   "execution_count": 22,
   "metadata": {},
   "outputs": [
    {
     "name": "stdout",
     "output_type": "stream",
     "text": [
      "3-nitro-4-methoxyacetophenone 3.3 g 0.016908336322180664 mol 16.908336322180663 mmol\n"
     ]
    }
   ],
   "source": [
    "step2_tnfmap = Reagent(tnfmap.name, mw=tnfmap.mw, grams=3.3)\n",
    "print(step2_tnfmap)`"
   ]
  },
  {
   "cell_type": "code",
   "execution_count": 24,
   "metadata": {},
   "outputs": [
    {
     "name": "stdout",
     "output_type": "stream",
     "text": [
      "3-nitro-4-methoxyacetophenone 3.89898115469135 g 0.019977358993141108 mol 19.97735899314111 mmol\n"
     ]
    }
   ],
   "source": [
    "q_fmap = Reagent(\"4-methoxyacetophenone\", mw=150.17, grams=3.0)\n",
    "q_tnfmap = Reagent(\"3-nitro-4-methoxyacetophenone\", mw=195.17, moles=q_fmap.moles)\n",
    "print(q_tnfmap)"
   ]
  },
  {
   "cell_type": "code",
   "execution_count": 26,
   "metadata": {},
   "outputs": [
    {
     "name": "stdout",
     "output_type": "stream",
     "text": [
      "76.94%\n"
     ]
    }
   ],
   "source": [
    "print(f\"{3.0 / q_tnfmap.grams * 100:.2f}%\")"
   ]
  },
  {
   "cell_type": "code",
   "execution_count": 27,
   "metadata": {},
   "outputs": [
    {
     "name": "stdout",
     "output_type": "stream",
     "text": [
      "0.8083999999999999\n"
     ]
    }
   ],
   "source": [
    "print(1.00 * 0.94 * 0.86)"
   ]
  },
  {
   "cell_type": "code",
   "execution_count": null,
   "metadata": {},
   "outputs": [],
   "source": []
  }
 ],
 "metadata": {
  "kernelspec": {
   "display_name": "Python 3",
   "language": "python",
   "name": "python3"
  },
  "language_info": {
   "codemirror_mode": {
    "name": "ipython",
    "version": 3
   },
   "file_extension": ".py",
   "mimetype": "text/x-python",
   "name": "python",
   "nbconvert_exporter": "python",
   "pygments_lexer": "ipython3",
   "version": "3.7.7"
  }
 },
 "nbformat": 4,
 "nbformat_minor": 4
}
