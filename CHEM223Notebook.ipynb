{
 "cells": [
  {
   "cell_type": "markdown",
   "metadata": {},
   "source": [
    "# CHEM 223 - Organic Chemistry 3 Lab\n",
    "\n",
    "\n",
    "## Foreword\n",
    "\n",
    "This notebook contains calculations for my third and final quarter of organic chemistry lab. At the time of writing, it's April 2020 and deep in quarantine, so this lab is online. I know what you're thinking, an online ochem lab? My days of broken glassware, fudged data, and poorly taken IR and proton NMR spectra are over. For the past two quarters, organic chemistry labs have been a welcome relief from the rest of my reading-on-a-computer typing-on-a-computer staring-at-a-computer coursework. This was where the mild pain of organic chemistry was supposed to come together in a tangible and rewarding way. Guess not. I won't miss stressing about finishing reactions and cleaning up under time pressure, though."
   ]
  },
  {
   "cell_type": "code",
   "execution_count": 106,
   "metadata": {},
   "outputs": [],
   "source": [
    "class Reagent:\n",
    "    def __init__(self, name, grams=None, moles=None, mmoles=None, mL=None, mw=None, density=None, M=None, pKa=None): # g/mL\n",
    "        self.name = name\n",
    "        self.grams = grams\n",
    "        self.moles = moles\n",
    "        self.mmoles = mmoles\n",
    "        self.mL = mL\n",
    "        self.mw = mw\n",
    "        self.density = density\n",
    "        self.M = M\n",
    "        self.pKa = pKa\n",
    "        \n",
    "        for i in range(20): # for dependent measurements\n",
    "            self.grams = self._calc_grams()\n",
    "            self.moles = self._calc_moles()\n",
    "            self.mmoles = self._calc_mmoles()\n",
    "            self.mL = self._calc_mL()\n",
    "            \n",
    "    \n",
    "    def _calc_grams(self):\n",
    "        if self.grams:\n",
    "            return float(self.grams)\n",
    "        elif self.moles and self.mw:\n",
    "            return float(self.moles) * float(self.mw)\n",
    "        elif self.mmoles and self.mw:\n",
    "            return float(self.mmoles) / 1000.0 / float(self.mw)\n",
    "        elif self.mL and self.density:\n",
    "            return float(self.mL) * float(self.density)\n",
    "        return None\n",
    "    \n",
    "    def _calc_moles(self):\n",
    "        if self.moles:\n",
    "            return float(self.moles)\n",
    "        elif self.mmoles:\n",
    "            return float(self.mmoles) / 1000.0\n",
    "        elif self.grams and self.mw:\n",
    "            return float(self.grams) / float(self.mw)\n",
    "        elif self.mL and self.M:\n",
    "            return float(self.mL) / 1000.0 * self.M\n",
    "        return None\n",
    "    \n",
    "    def _calc_mmoles(self):\n",
    "        if self.mmoles:\n",
    "            return float(self.mmoles)\n",
    "        elif self._calc_moles():\n",
    "            return self._calc_moles() * 1000.0\n",
    "        return None\n",
    "    \n",
    "    def _calc_mL(self):\n",
    "        if self.mL:\n",
    "            return self.mL\n",
    "        elif self.grams and self.density:\n",
    "            return float(self.grams) / float(self.density)\n",
    "        elif self.moles and self.mw and self.density:\n",
    "            return float(self.moles) * float(self.mw) / float(self.d)\n",
    "        elif self.mmoles and self.mw and self.density:\n",
    "            return float(self.mmoles) * float(self.mw) / float(self.d) / 1000.0\n",
    "        return None"
   ]
  },
  {
   "cell_type": "markdown",
   "metadata": {},
   "source": [
    "## EXPERIMENT 1: SYNTHESIS OF METHYL SALICYLATE: A FISCHER ESTERIFICATION"
   ]
  },
  {
   "cell_type": "markdown",
   "metadata": {},
   "source": [
    "### Reagents"
   ]
  },
  {
   "cell_type": "code",
   "execution_count": 116,
   "metadata": {},
   "outputs": [],
   "source": [
    "sa = Reagent(\"salicylic acid\", grams=9.7, mw=138.121)\n",
    "meoh = Reagent(\"MeOH\", mL=25.0, mw=32.04, density=0.792, pKa=15.54)\n",
    "h2so4 = Reagent(\"Conc. H2SO4\", mL=4.0, M=18.0, pKa=-2.8)\n",
    "quiz_incorrect_h2so4 = Reagent(\"Incorrect amount pure H2SO4\", mL=1.0, density=1.83, mw=98.07, pKa=-2.8)"
   ]
  },
  {
   "cell_type": "markdown",
   "metadata": {},
   "source": [
    "### Equivalents"
   ]
  },
  {
   "cell_type": "code",
   "execution_count": 117,
   "metadata": {},
   "outputs": [
    {
     "data": {
      "text/html": [
       "<div>\n",
       "<style scoped>\n",
       "    .dataframe tbody tr th:only-of-type {\n",
       "        vertical-align: middle;\n",
       "    }\n",
       "\n",
       "    .dataframe tbody tr th {\n",
       "        vertical-align: top;\n",
       "    }\n",
       "\n",
       "    .dataframe thead th {\n",
       "        text-align: right;\n",
       "    }\n",
       "</style>\n",
       "<table border=\"1\" class=\"dataframe\">\n",
       "  <thead>\n",
       "    <tr style=\"text-align: right;\">\n",
       "      <th></th>\n",
       "      <th>name</th>\n",
       "      <th>equivalents</th>\n",
       "    </tr>\n",
       "  </thead>\n",
       "  <tbody>\n",
       "    <tr>\n",
       "      <th>0</th>\n",
       "      <td>salicylic acid</td>\n",
       "      <td>1.000000</td>\n",
       "    </tr>\n",
       "    <tr>\n",
       "      <th>1</th>\n",
       "      <td>MeOH</td>\n",
       "      <td>8.799554</td>\n",
       "    </tr>\n",
       "    <tr>\n",
       "      <th>2</th>\n",
       "      <td>Conc. H2SO4</td>\n",
       "      <td>1.025228</td>\n",
       "    </tr>\n",
       "    <tr>\n",
       "      <th>3</th>\n",
       "      <td>Incorrect amount pure H2SO4</td>\n",
       "      <td>0.265707</td>\n",
       "    </tr>\n",
       "  </tbody>\n",
       "</table>\n",
       "</div>"
      ],
      "text/plain": [
       "                          name  equivalents\n",
       "0               salicylic acid     1.000000\n",
       "1                         MeOH     8.799554\n",
       "2                  Conc. H2SO4     1.025228\n",
       "3  Incorrect amount pure H2SO4     0.265707"
      ]
     },
     "execution_count": 117,
     "metadata": {},
     "output_type": "execute_result"
    }
   ],
   "source": [
    "import pandas as pd\n",
    "\n",
    "reagents = [sa, meoh, h2so4, quiz_incorrect_h2so4]\n",
    "mmoles = [[r.name, r.mmoles] for r in reagents]\n",
    "df = pd.DataFrame(mmoles, columns=[\"name\", \"equivalents\"])\n",
    "df['equivalents'] = df['equivalents'] / sa.mmoles\n",
    "df"
   ]
  },
  {
   "cell_type": "markdown",
   "metadata": {},
   "source": [
    "### Theoretical Yield\n",
    "\n",
    "1:1 molar ratio between salicylic acid reagent and methyl salicate product"
   ]
  },
  {
   "cell_type": "code",
   "execution_count": 109,
   "metadata": {},
   "outputs": [
    {
     "name": "stdout",
     "output_type": "stream",
     "text": [
      "10.69 g methyl salicylate\n"
     ]
    }
   ],
   "source": [
    "ms = Reagent(\"methyl salicylate\", moles=sa.moles, mw=152.1494)\n",
    "print(f\"{ms.grams:.2f} g methyl salicylate\")"
   ]
  },
  {
   "cell_type": "markdown",
   "metadata": {},
   "source": [
    "### Percent yield"
   ]
  },
  {
   "cell_type": "code",
   "execution_count": 119,
   "metadata": {},
   "outputs": [
    {
     "name": "stdout",
     "output_type": "stream",
     "text": [
      "percent yield: 69.25. Nice.\n"
     ]
    }
   ],
   "source": [
    "py = 7.4 / ms.grams * 100\n",
    "print(f\"percent yield: {py:.2f}. Nice.\")"
   ]
  },
  {
   "cell_type": "markdown",
   "metadata": {},
   "source": [
    "### Properties and uses of salicylic acid and methyl salicylate\n",
    "\n",
    "Salicylic acid is a whitish-tan solid at room temperature. It can be used to remove the outer layer skin and is often found in skincare and acne products. Salicylic acid is also an active metabolite of the drug aspirin and is responsible for the anti inflammatory properties of aspirin.\n",
    "\n",
    "Methyl salicylate, aka wintergreen oil, is a colorless liquid at room temperature with a minty or fruity odor. It is commonly used in fragrances, foods, and beverages. It is also used in traditional medicine.\n",
    "\n",
    "\n",
    "### Procedure in lab manual vs youtube video\n",
    "\n",
    "[youtube video](https://www.youtube.com/watch?v=lJLP2bcXDqY)\n",
    "\n",
    "The lab manual procedure used different and smaller quantities of reagents. No boiling stones in the video. Reaction mixture in the video was refluxed for twice as long. The video used a rotovap immediately after refluxing to remove some of the excess methanol. In the video, only cold water was added to the sep funnel. The lab manual calls for cold water, EtOAc, and brine to be added to the sep funnel. The video showed an extra final wash step. When the rest of the extraction was completed, the lab manual procedure called for rotovapping off the EtOAc. The video mentioned but did not show the use of MgSO4 to remove excess water from the product.\n",
    "\n",
    "\n",
    "### Percent yield\n",
    "\n",
    "69.25%\n",
    "\n",
    "\n",
    "### Rf/Polarity of methyl salicylate vs salicylic acid\n",
    "\n",
    "Salicylic acid would have a lower Rf value because the carboxylic acid group in salicylic acid is more polar than the ester group in methyl salicylate.\n",
    "\n",
    "\n",
    "### IR Spectrum of methyl salicylate vs \n",
    "\n",
    "Methyl salicylate IR spectrum has a peak at 1650 cm-1 from ester C=O stretch. There are also C-O stretches in the fingerprint region from 1000 - 1300 cm-1 characteristic of an ester, which are absent in the IR spectra of salicylic acid. The IR spectra of both methyl salicylate and salicylic have O-H stretches around 3000 to 3500 cm-1.\n",
    "\n",
    "\n",
    "### HNMR of methyl salicylate\n",
    "\n",
    "The signal at 10.5 is from the phenol H. This is not a good signal to base the integrations off because it is broad and difficult to integrate accurately. This means the other integrations are not directly indicitave of the number of protons causing the signals. The 4 aromatic protons cause the peaks between 6.7 and 7.9, but overlap and are difficult to distinguish from each other. The singlet at 3.9 is caused by the 3 protons in the methyl group on the end of the ester. It would be better to integrate the signals based off of this signal, using a value of 3, because it is strong and distinct.\n",
    "\n",
    "\n",
    "### 13C NMR of methyl salicylate\n",
    "\n",
    "The C in the ester is the furthest signal downfield. The second furthest downfield signal is likely the C attached to the OH.\n",
    "\n",
    "\n",
    "### Most interesting thing I learned\n",
    "\n",
    "Since salicylic acid is the principle metabolite of aspirin, I enjoyed reading about how aspirin is absorbed by the body and metabolized into salicylic acid."
   ]
  },
  {
   "cell_type": "markdown",
   "metadata": {},
   "source": []
  },
  {
   "cell_type": "code",
   "execution_count": null,
   "metadata": {},
   "outputs": [],
   "source": []
  }
 ],
 "metadata": {
  "kernelspec": {
   "display_name": "Python 3",
   "language": "python",
   "name": "python3"
  },
  "language_info": {
   "codemirror_mode": {
    "name": "ipython",
    "version": 3
   },
   "file_extension": ".py",
   "mimetype": "text/x-python",
   "name": "python",
   "nbconvert_exporter": "python",
   "pygments_lexer": "ipython3",
   "version": "3.7.7"
  }
 },
 "nbformat": 4,
 "nbformat_minor": 4
}
